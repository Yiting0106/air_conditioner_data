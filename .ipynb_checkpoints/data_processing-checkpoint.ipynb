{
 "cells": [
  {
   "cell_type": "code",
   "execution_count": null,
   "id": "eb033e98",
   "metadata": {},
   "outputs": [],
   "source": [
    "################################## Notes #################################\n",
    "\n",
    "# 'Total Capacity (W or Btu/h)' is Net cooling capacity.\n",
    "\n",
    "# DAIKIN\n",
    "    # Document: DX_Equipment_Data_Collection_D.excel\n",
    "    # 'Compressor Stage': From 'Table 1' to 'Table 8', 'Stages per Compression' is 1, the 'Quantity of Compressor' \n",
    "    #                     is 1, 2, 2, 2, 2, 3, 4, 5. In 'Expanded Cooling Data', it doesn't specify the cooling stage; \n",
    "    #                     the stage only shows in HGRH Performance.                 \n",
    "    \n",
    "# LENNOX\n",
    "    # Document: DX_Equipment_Data_Collection_L.excel"
   ]
  },
  {
   "cell_type": "code",
   "execution_count": null,
   "id": "15c8c3c9",
   "metadata": {},
   "outputs": [],
   "source": []
  }
 ],
 "metadata": {
  "kernelspec": {
   "display_name": "Python 3 (ipykernel)",
   "language": "python",
   "name": "python3"
  },
  "language_info": {
   "codemirror_mode": {
    "name": "ipython",
    "version": 3
   },
   "file_extension": ".py",
   "mimetype": "text/x-python",
   "name": "python",
   "nbconvert_exporter": "python",
   "pygments_lexer": "ipython3",
   "version": "3.11.3"
  }
 },
 "nbformat": 4,
 "nbformat_minor": 5
}
